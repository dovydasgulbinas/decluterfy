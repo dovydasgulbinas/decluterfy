{
 "cells": [
  {
   "cell_type": "markdown",
   "metadata": {
    "slideshow": {
     "slide_type": "slide"
    }
   },
   "source": [
    "# whoami 👤\n",
    "\n",
    "#### Dovydas Gulbinas    GitHub: Megamorphf\n",
    "\n",
    " \n",
    "- Former: Python (ODOO) developer    \n",
    "- Current: Oracle, Java developer with strong love for DevOPS 😍           "
   ]
  },
  {
   "cell_type": "markdown",
   "metadata": {
    "slideshow": {
     "slide_type": "slide"
    }
   },
   "source": [
    "# about_the_project 🗣\n",
    "\n",
    "#### Decluterfy\n",
    "\n",
    "- A command line tool for tidying your Spotify playlists\n",
    "- It learns your playlists and uses machine learning to make decisions\n",
    "- Its written in Python and can be easily adapted to be a web app\n"
   ]
  },
  {
   "cell_type": "markdown",
   "metadata": {
    "slideshow": {
     "slide_type": "slide"
    }
   },
   "source": [
    "# demo_time 🚨\n",
    "\n",
    "![demo-meme][meme]\n",
    "\n",
    "\n",
    "[meme]: http://www.sqlhammer.com/wp-content/uploads/2016/10/demo-god-meme.jpg"
   ]
  },
  {
   "cell_type": "markdown",
   "metadata": {
    "slideshow": {
     "slide_type": "slide"
    }
   },
   "source": [
    "# stack 🍔\n",
    "\n",
    "#### Python\n",
    "\n",
    "```python\n",
    "import spotipy\n",
    "import sklearn # I used import tree\n",
    "from spotipy_client import MLearnipy\n",
    "from ml_items import DatasetFormer\n",
    "```"
   ]
  },
  {
   "cell_type": "markdown",
   "metadata": {
    "slideshow": {
     "slide_type": "slide"
    }
   },
   "source": [
    "# \"Q. but where you got the song features from 🤔 ?\""
   ]
  },
  {
   "cell_type": "markdown",
   "metadata": {
    "slideshow": {
     "slide_type": "subslide"
    }
   },
   "source": [
    "# \"A. from Spotify api\"\n",
    "\n",
    "<hr>\n",
    "\n",
    "```python\n",
    "\n",
    "selected_features = [\n",
    "    \"id\",\n",
    "    \"duration_ms\",\n",
    "    \"acousticness\",\n",
    "    \"tempo\",\n",
    "    \"speechiness\",\n",
    "    \"mode\",\n",
    "    \"danceability\",\n",
    "    \"liveness\",\n",
    "    \"instrumentalness\",\n",
    "    \"loudness\",\n",
    "    \"time_signature\",\n",
    "    \"energy\",\n",
    "    \"valence\",\n",
    "    \"key\"\n",
    "]\n",
    "\n",
    "```"
   ]
  },
  {
   "cell_type": "markdown",
   "metadata": {
    "slideshow": {
     "slide_type": "slide"
    }
   },
   "source": [
    "# how_i_strucutred_all_the_songs ?\n",
    "\n",
    "\n",
    "\n",
    "\n",
    "```python\n",
    "\n",
    "# All playlists go here except the target one\n",
    "# Each child of json object is a playlist\n",
    "\n",
    "{\n",
    "  {\n",
    "    \"id\": [1,2, ... xSongs],\n",
    "    \"duration_ms\": [1,2, ... xSongs],\n",
    "    \"danceability\": [1,2, ... xSongs],\n",
    "    ...\n",
    "  },\n",
    "  {\n",
    "    \"id\": [1,2, ... ySongs],\n",
    "    \"duration_ms\": [1,2, ... ySongs],\n",
    "    \"danceability\": [1,2, ... ySongs],\n",
    "    ...\n",
    "  }\n",
    "}  \n",
    "\n",
    "```"
   ]
  },
  {
   "cell_type": "markdown",
   "metadata": {
    "slideshow": {
     "slide_type": "slide"
    }
   },
   "source": [
    "# Q. But Where is all the Machine learning 😡?"
   ]
  },
  {
   "cell_type": "markdown",
   "metadata": {
    "slideshow": {
     "slide_type": "subslide"
    }
   },
   "source": [
    "\n",
    "# A. in 4 lines of python 🐍\n",
    "\n",
    "<hr>\n",
    "\n",
    "```python\n",
    "decision_tree_classifier = tree.DecisionTreeClassifier()\n",
    "\n",
    "...\n",
    "\n",
    "# the 3 lines of magic\n",
    "\n",
    "decision_tree_classifier.fit(songs_not_in_unsorted_playlist, playlists_for_sorted_songs)\n",
    "incorrectly_sorted_songs = incorrectly_sorted_set.data\n",
    "playlists_for_unsorted_songs = decision_tree_classifier.predict(incorrectly_sorted_songs)\n",
    "\n",
    "# what is going on?\n",
    "\n",
    "[song_id1, song_id2 ... song_idn] -> [playlist_id1, playlist_id2]\n",
    "```"
   ]
  }
 ],
 "metadata": {
  "celltoolbar": "Slideshow",
  "kernelspec": {
   "display_name": "Python 3",
   "language": "python",
   "name": "python3"
  },
  "language_info": {
   "codemirror_mode": {
    "name": "ipython",
    "version": 3
   },
   "file_extension": ".py",
   "mimetype": "text/x-python",
   "name": "python",
   "nbconvert_exporter": "python",
   "pygments_lexer": "ipython3",
   "version": "3.6.1"
  }
 },
 "nbformat": 4,
 "nbformat_minor": 2
}
